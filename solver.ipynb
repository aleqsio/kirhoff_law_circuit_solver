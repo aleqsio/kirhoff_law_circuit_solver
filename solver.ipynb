{
 "cells": [
  {
   "cell_type": "markdown",
   "metadata": {},
   "source": [
    "# Circuit solver using II Kirchoff Law and Gauss-Jordan pivoted matrix solve\n",
    "## Aleksander Mikucki"
   ]
  },
  {
   "cell_type": "markdown",
   "metadata": {},
   "source": [
    "few imports, a fix for pint's unit display and a function for plotting edge labels"
   ]
  },
  {
   "cell_type": "code",
   "execution_count": 171,
   "metadata": {},
   "outputs": [],
   "source": [
    "import networkx as nx\n",
    "import matplotlib.pyplot as plt\n",
    "import pint\n",
    "import numpy as np\n",
    "unit = pint.UnitRegistry()"
   ]
  },
  {
   "cell_type": "code",
   "execution_count": 172,
   "metadata": {},
   "outputs": [],
   "source": [
    "class Quantity(unit.Quantity):\n",
    "    def __repr__(self):\n",
    "        return str(self)\n",
    "unit.Quantity = Quantity"
   ]
  },
  {
   "cell_type": "code",
   "execution_count": 202,
   "metadata": {},
   "outputs": [],
   "source": [
    "def drawG(graph):\n",
    "    pos=nx.spring_layout(graph)\n",
    "    nx.draw(graph,pos, with_labels=True)\n",
    "    nx.draw_networkx_edge_labels(graph,pos)"
   ]
  },
  {
   "cell_type": "markdown",
   "metadata": {},
   "source": [
    "We assume a convention where a positive sign of current or SEM means that it flows from a smaller index veritce to a highier index one."
   ]
  },
  {
   "cell_type": "code",
   "execution_count": 203,
   "metadata": {},
   "outputs": [],
   "source": [
    "def setSignFromVerticeOrder(vFrom, vTo, val):\n",
    "    if(vFrom < vTo): return val\n",
    "    else: return -val"
   ]
  },
  {
   "cell_type": "markdown",
   "metadata": {},
   "source": [
    "Here we provide a circuit description, here are a few sample ones"
   ]
  },
  {
   "cell_type": "code",
   "execution_count": 204,
   "metadata": {},
   "outputs": [],
   "source": [
    "circuit1 = nx.Graph()\n",
    "circuit1.add_node(1)\n",
    "circuit1.add_node(2)\n",
    "circuit1.add_node(3)\n",
    "circuit1.add_node(4)\n",
    "circuit1.add_edges_from([\n",
    "    (1, 2, {'R': 3 * unit.ohm, 'SEM':-1*unit.volt}), \n",
    "    (2,3,{'SEM':1 * unit.volt,'R':1*unit.ohm}),\n",
    "    (3,1),\n",
    "    (2,4,{'R':1*unit.ohm}),\n",
    "    (3,4,{'R':3*unit.ohm})\n",
    "])"
   ]
  },
  {
   "cell_type": "code",
   "execution_count": 205,
   "metadata": {},
   "outputs": [],
   "source": [
    "circuit2 = nx.Graph()\n",
    "circuit2.add_node(1)\n",
    "circuit2.add_node(2)\n",
    "circuit2.add_node(3)\n",
    "circuit2.add_node(4)\n",
    "\n",
    "circuit2.add_edges_from([\n",
    "    (1, 2, {'SEM':1*unit.volt}), \n",
    "    (2,3,{'SEM':1*unit.volt}),\n",
    "    (3,1,{'R':1*unit.ohm}),\n",
    "    (2,4,{'R':3*unit.ohm}),\n",
    "    (4,1),\n",
    "    (3,4,{'R':1*unit.ohm})\n",
    "])"
   ]
  },
  {
   "cell_type": "code",
   "execution_count": 206,
   "metadata": {},
   "outputs": [],
   "source": [
    "circuit3 = nx.Graph()\n",
    "circuit3.add_node(1)\n",
    "circuit3.add_node(2)\n",
    "circuit3.add_node(3)\n",
    "circuit3.add_node(4)\n",
    "\n",
    "circuit3.add_edges_from([\n",
    "    (1, 2, {'SEM':1*unit.volt}), \n",
    "    (2,3,{'SEM':1*unit.volt}),\n",
    "    (3,1,{'R':1*unit.ohm}),\n",
    "    (2,4,{'R':3*unit.ohm}),\n",
    "    (2,1,{'R':3*unit.ohm}),\n",
    "    (4,1)\n",
    "])"
   ]
  },
  {
   "cell_type": "code",
   "execution_count": 207,
   "metadata": {},
   "outputs": [],
   "source": [
    "# this is a singular one\n",
    "circuit4 = nx.Graph()\n",
    "circuit4.add_node(1)\n",
    "circuit4.add_node(2)\n",
    "circuit4.add_node(3)\n",
    "circuit4.add_edges_from([\n",
    "    (1, 2, {'SEM':1*unit.volt}), \n",
    "    (2,3,{'SEM':1*unit.volt}),\n",
    "    (3,1)\n",
    "])"
   ]
  },
  {
   "cell_type": "code",
   "execution_count": 208,
   "metadata": {},
   "outputs": [],
   "source": [
    "circuit5 = nx.Graph()\n",
    "circuit5.add_node(1)\n",
    "circuit5.add_node(2)\n",
    "circuit5.add_node(3)\n",
    "circuit5.add_node(4)\n",
    "circuit5.add_node(5)\n",
    "circuit5.add_node(6)\n",
    "circuit5.add_node(7)\n",
    "circuit5.add_edges_from([\n",
    "    (1, 2, {'R': 3 * unit.ohm, 'SEM':-1*unit.volt}), \n",
    "    (5, 2, {'R': 10 * unit.ohm, 'SEM':2*unit.volt}), \n",
    "    (7, 1, {'R': 3 * unit.ohm, 'SEM':-1*unit.volt}), \n",
    "    (2,3,{'SEM':1 * unit.volt,'R':1*unit.ohm}),\n",
    "    (3,1,{'R':1*unit.ohm}),\n",
    "    (2,3,{'R':1*unit.ohm}),\n",
    "    (7,2,{'R':1*unit.ohm}),\n",
    "    (6,1,{'R':1*unit.ohm}),\n",
    "    (6,3,{'R':1*unit.ohm}),\n",
    "    (2,4,{'R':1*unit.ohm}),\n",
    "    (3,4,{'R':3*unit.ohm}),\n",
    "    (5,1)\n",
    "])"
   ]
  },
  {
   "cell_type": "code",
   "execution_count": 209,
   "metadata": {},
   "outputs": [],
   "source": [
    "circuit = circuit1"
   ]
  },
  {
   "cell_type": "markdown",
   "metadata": {},
   "source": [
    "We assume that SEM is positive if it has a minus at a node with a lower index"
   ]
  },
  {
   "cell_type": "code",
   "execution_count": 210,
   "metadata": {},
   "outputs": [
    {
     "data": {
      "image/png": "[encoded data removed]",
      "text/plain": [
       "<Figure size 432x288 with 1 Axes>"
      ]
     },
     "metadata": {},
     "output_type": "display_data"
    }
   ],
   "source": [
    "drawG(circuit)"
   ]
  },
  {
   "cell_type": "markdown",
   "metadata": {},
   "source": [
    "We use a library function for getting all basic cycles in a graph"
   ]
  },
  {
   "cell_type": "code",
   "execution_count": 211,
   "metadata": {},
   "outputs": [],
   "source": [
    "cycleVerticeIndexes = nx.cycle_basis(circuit)"
   ]
  },
  {
   "cell_type": "code",
   "execution_count": 212,
   "metadata": {},
   "outputs": [
    {
     "data": {
      "text/plain": [
       "[[2, 3, 1], [2, 4, 3]]"
      ]
     },
     "execution_count": 212,
     "metadata": {},
     "output_type": "execute_result"
    }
   ],
   "source": [
    "cycleVerticeIndexes"
   ]
  },
  {
   "cell_type": "markdown",
   "metadata": {},
   "source": [
    "We convert them into edge descriptions"
   ]
  },
  {
   "cell_type": "code",
   "execution_count": 213,
   "metadata": {},
   "outputs": [
    {
     "data": {
      "text/plain": [
       "[[[2, 3], [3, 1], [1, 2]], [[2, 4], [4, 3], [3, 2]]]"
      ]
     },
     "execution_count": 213,
     "metadata": {},
     "output_type": "execute_result"
    }
   ],
   "source": [
    "cycleEdgeIndexes = []\n",
    "for cycle in cycleVerticeIndexes:\n",
    "    edges = []\n",
    "    for i,v in enumerate(cycle):\n",
    "        edges.append([v, cycle[(i+1) % len(cycle)]])\n",
    "    cycleEdgeIndexes.append(edges)\n",
    "cycleEdgeIndexes"
   ]
  },
  {
   "cell_type": "markdown",
   "metadata": {},
   "source": [
    "Now we need to start mapping it into a matrix for solving it numerically\n",
    "http://fourier.eng.hmc.edu/e84/lectures/ch2/node2.html\n",
    "\n",
    "We'll assign a loop current to each cycle and put these currents into our graph"
   ]
  },
  {
   "cell_type": "code",
   "execution_count": 214,
   "metadata": {},
   "outputs": [],
   "source": [
    "for idx,cycle in enumerate(cycleEdgeIndexes):\n",
    "    for edge in cycle:\n",
    "        nx.set_edge_attributes(circuit, \n",
    "                               name = 'LI', \n",
    "                               values = {\n",
    "                                   (edge[0],edge[1]):\n",
    "                                   {**circuit[edge[0]][edge[1]].get('LI',{}),\n",
    "                                   **{('i' + str(idx)):setSignFromVerticeOrder(edge[0],edge[1],1)}}\n",
    "                                        })"
   ]
  },
  {
   "cell_type": "code",
   "execution_count": 215,
   "metadata": {},
   "outputs": [
    {
     "data": {
      "image/png": "[encoded data removed]",
      "text/plain": [
       "<Figure size 432x288 with 1 Axes>"
      ]
     },
     "metadata": {},
     "output_type": "display_data"
    }
   ],
   "source": [
    "drawG(circuit)"
   ]
  },
  {
   "cell_type": "code",
   "execution_count": 216,
   "metadata": {},
   "outputs": [
    {
     "data": {
      "text/plain": [
       "[[(2, 3, {'SEM': 1 volt, 'R': 1 ohm, 'LI': {'i0': 1, 'i1': -1}}),\n",
       "  (3, 1, {'LI': {'i0': -1}}),\n",
       "  (1, 2, {'R': 3 ohm, 'SEM': -1 volt, 'LI': {'i0': 1}})],\n",
       " [(2, 4, {'R': 1 ohm, 'LI': {'i1': 1}}),\n",
       "  (4, 3, {'R': 3 ohm, 'LI': {'i1': -1}}),\n",
       "  (3, 2, {'SEM': 1 volt, 'R': 1 ohm, 'LI': {'i0': 1, 'i1': -1}})]]"
      ]
     },
     "execution_count": 216,
     "metadata": {},
     "output_type": "execute_result"
    }
   ],
   "source": [
    "cycleEdges = []\n",
    "for cycle in cycleEdgeIndexes:\n",
    "    cycleEdges.append(list(map(lambda e:(e[0],e[1], circuit[e[0]][e[1]]),cycle)))\n",
    "cycleEdges"
   ]
  },
  {
   "cell_type": "markdown",
   "metadata": {},
   "source": [
    "We compose Kirhoff II law for each loop, summing SEM and R for each loop current (i0, i1, etc.)"
   ]
  },
  {
   "cell_type": "code",
   "execution_count": 217,
   "metadata": {},
   "outputs": [],
   "source": [
    "SEMArray = []\n",
    "IArray = []\n",
    "for idx, loop in enumerate(cycleEdges):\n",
    "    sumOfSEM = 0\n",
    "    sumOfResistancesPerCurrent = {}\n",
    "    for edge in loop:\n",
    "        edgeCurrents = edge[2].get('LI',{})\n",
    "        edgeResistance = edge[2].get('R',0 * unit.ohm)\n",
    "        sumOfSEM += edgeCurrents.get('i'+str(idx),0) * edge[2].get('SEM',0 * unit.volt).magnitude\n",
    "        for current in edgeCurrents.keys():\n",
    "            sumOfResistancesPerCurrent[current] = sumOfResistancesPerCurrent.get(current,0*unit.ohm) + edgeResistance\n",
    "    SEMArray.append(sumOfSEM)\n",
    "    IArray.append(list(map(lambda idx: sumOfResistancesPerCurrent.get('i'+str(idx),0*unit.ohm).magnitude, range(0,len(cycleEdges)))))"
   ]
  },
  {
   "cell_type": "code",
   "execution_count": 218,
   "metadata": {},
   "outputs": [
    {
     "data": {
      "text/plain": [
       "[0, -1]"
      ]
     },
     "execution_count": 218,
     "metadata": {},
     "output_type": "execute_result"
    }
   ],
   "source": [
    "SEMArray"
   ]
  },
  {
   "cell_type": "code",
   "execution_count": 219,
   "metadata": {},
   "outputs": [
    {
     "data": {
      "text/plain": [
       "[[4, 1], [1, 5]]"
      ]
     },
     "execution_count": 219,
     "metadata": {},
     "output_type": "execute_result"
    }
   ],
   "source": [
    "IArray"
   ]
  },
  {
   "cell_type": "markdown",
   "metadata": {},
   "source": [
    "Let's see what we should expect from our gauss_jordan implementation"
   ]
  },
  {
   "cell_type": "code",
   "execution_count": 220,
   "metadata": {},
   "outputs": [
    {
     "name": "stdout",
     "output_type": "stream",
     "text": [
      "[ 0.05263158 -0.21052632]\n"
     ]
    }
   ],
   "source": [
    "a = np.asarray(IArray)\n",
    "b = np.asarray(SEMArray)\n",
    "print(np.linalg.solve(a,b))"
   ]
  },
  {
   "cell_type": "code",
   "execution_count": 221,
   "metadata": {},
   "outputs": [],
   "source": [
    "def gauss_jordan(m, eps=1.0 / 10 ** 10):\n",
    "    (height, width) = m.shape\n",
    "    for y in range(0, height):\n",
    "        # we swap the rows around (pivoting) as to minimize numeric error\n",
    "        indexOfMaxPivotRow = y\n",
    "        for currIndex in range(y + 1, height):\n",
    "            if abs(m[currIndex][y]) > abs(m[indexOfMaxPivotRow][y]):\n",
    "                indexOfMaxPivotRow = currIndex\n",
    "        m[y], m[indexOfMaxPivotRow] = m[indexOfMaxPivotRow], m[y]\n",
    "        # We check for matrix simmilarity, \n",
    "        # which signifies that there are no resistance values set\n",
    "        # The circuit is a short circuit\n",
    "        if abs(m[y][y]) <= 1e-9:\n",
    "            return False\n",
    "        for currIndex in range(y + 1, height):\n",
    "            multiplier = m[currIndex][y] / m[y][y]\n",
    "            for x in range(y, width):\n",
    "                m[currIndex][x] -= m[y][x] * multiplier\n",
    "    for y in range(height - 1, 0 - 1, -1):\n",
    "        multiplier = m[y][y]\n",
    "        for currIndex in range(0, y):\n",
    "            for x in range(width - 1, y - 1, -1):\n",
    "                m[currIndex][x] -= m[y][x] * m[currIndex][y] / multiplier\n",
    "        m[y][y] /= multiplier\n",
    "        for x in range(height, width):\n",
    "            m[y][x] /= multiplier\n",
    "    return True"
   ]
  },
  {
   "cell_type": "code",
   "execution_count": 222,
   "metadata": {},
   "outputs": [],
   "source": [
    "b = b.reshape(-1,1)"
   ]
  },
  {
   "cell_type": "code",
   "execution_count": 223,
   "metadata": {},
   "outputs": [],
   "source": [
    "m = np.array(np.column_stack([a,b]),dtype=float)"
   ]
  },
  {
   "cell_type": "code",
   "execution_count": 224,
   "metadata": {},
   "outputs": [
    {
     "data": {
      "text/plain": [
       "array([[ 4.,  1.,  0.],\n",
       "       [ 1.,  5., -1.]])"
      ]
     },
     "execution_count": 224,
     "metadata": {},
     "output_type": "execute_result"
    }
   ],
   "source": [
    "m"
   ]
  },
  {
   "cell_type": "code",
   "execution_count": 225,
   "metadata": {},
   "outputs": [
    {
     "data": {
      "text/plain": [
       "True"
      ]
     },
     "execution_count": 225,
     "metadata": {},
     "output_type": "execute_result"
    }
   ],
   "source": [
    "gauss_jordan(m)"
   ]
  },
  {
   "cell_type": "code",
   "execution_count": 226,
   "metadata": {},
   "outputs": [
    {
     "data": {
      "text/plain": [
       "array([[ 1.        ,  0.        ,  0.05263158],\n",
       "       [ 0.        ,  1.        , -0.21052632]])"
      ]
     },
     "execution_count": 226,
     "metadata": {},
     "output_type": "execute_result"
    }
   ],
   "source": [
    "m"
   ]
  },
  {
   "cell_type": "markdown",
   "metadata": {},
   "source": [
    "Now we just need to fill this data back into our graph"
   ]
  },
  {
   "cell_type": "code",
   "execution_count": 227,
   "metadata": {},
   "outputs": [
    {
     "data": {
      "text/plain": [
       "{'i0': 0.05263157894736842, 'i1': -0.21052631578947367}"
      ]
     },
     "execution_count": 227,
     "metadata": {},
     "output_type": "execute_result"
    }
   ],
   "source": [
    "currents = {}\n",
    "for idx, row in enumerate(m):\n",
    "    currents['i'+str(idx)] = row[-1]\n",
    "currents"
   ]
  },
  {
   "cell_type": "code",
   "execution_count": 228,
   "metadata": {},
   "outputs": [],
   "source": [
    "for idx,cycle in enumerate(cycleEdgeIndexes):\n",
    "    for edge in cycle:\n",
    "        nx.set_edge_attributes(circuit, \n",
    "                               name = 'I', \n",
    "                               values = {\n",
    "                                   (edge[0],edge[1]):\n",
    "                                   round(sum(list(map(lambda ilElem: currents[ilElem[0]]*ilElem[1]*setSignFromVerticeOrder(edge[0],edge[1],1),circuit[edge[0]][edge[1]].get('LI',{}).items()))),2),\n",
    "                                        })\n",
    "nx.set_edge_attributes(circuit, \n",
    "                       name = 'LI', \n",
    "                       values = [])"
   ]
  },
  {
   "cell_type": "code",
   "execution_count": 229,
   "metadata": {},
   "outputs": [
    {
     "data": {
      "image/png": "[encoded data removed]",
      "text/plain": [
       "<Figure size 432x288 with 1 Axes>"
      ]
     },
     "metadata": {},
     "output_type": "display_data"
    }
   ],
   "source": [
    "drawG(circuit)"
   ]
  }
 ],
 "metadata": {
  "kernelspec": {
   "display_name": "Python 3",
   "language": "python",
   "name": "python3"
  },
  "language_info": {
   "codemirror_mode": {
    "name": "ipython",
    "version": 3
   },
   "file_extension": ".py",
   "mimetype": "text/x-python",
   "name": "python",
   "nbconvert_exporter": "python",
   "pygments_lexer": "ipython3",
   "version": "3.7.1rc2"
  }
 },
 "nbformat": 4,
 "nbformat_minor": 2
}
